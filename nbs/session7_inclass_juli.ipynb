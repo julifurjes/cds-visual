{
 "cells": [
  {
   "cell_type": "markdown",
   "metadata": {},
   "source": [
    "# Session 7 - Neural Networks for image data\n",
    "\n",
    "In this notebook, we're going to see how we can train simple neural networks using ```TensorFlow```, a machine learning and deep learning framework developed by Google Research. You can find the documentation [here](https://www.tensorflow.org/).\n",
    "\n",
    "We're still working on greyscale images at this point - next week, we'll start thinking about working with full colour images.\n",
    "\n",
    "Adding text."
   ]
  },
  {
   "cell_type": "code",
   "execution_count": 1,
   "metadata": {
    "execution": {
     "iopub.execute_input": "2023-03-17T12:52:59.610614Z",
     "iopub.status.busy": "2023-03-17T12:52:59.610027Z",
     "iopub.status.idle": "2023-03-17T12:53:03.871507Z",
     "shell.execute_reply": "2023-03-17T12:53:03.870768Z",
     "shell.execute_reply.started": "2023-03-17T12:52:59.610565Z"
    }
   },
   "outputs": [
    {
     "name": "stderr",
     "output_type": "stream",
     "text": [
      "2023-03-17 13:53:00.314995: I tensorflow/core/platform/cpu_feature_guard.cc:193] This TensorFlow binary is optimized with oneAPI Deep Neural Network Library (oneDNN) to use the following CPU instructions in performance-critical operations:  AVX2 AVX512F FMA\n",
      "To enable them in other operations, rebuild TensorFlow with the appropriate compiler flags.\n"
     ]
    }
   ],
   "source": [
    "# generic tools\n",
    "import numpy as np\n",
    "\n",
    "# tools from sklearn\n",
    "from sklearn.datasets import fetch_openml\n",
    "from sklearn.preprocessing import LabelBinarizer\n",
    "from sklearn.metrics import classification_report\n",
    "from sklearn.model_selection import train_test_split\n",
    "\n",
    "# tools from tensorflow\n",
    "import tensorflow as tf\n",
    "from tensorflow.keras.models import Sequential\n",
    "from tensorflow.keras.layers import Dense\n",
    "from tensorflow.keras.optimizers import SGD\n",
    "from tensorflow.keras import backend as K\n",
    "from tensorflow.keras.utils import plot_model\n",
    "\n",
    "# matplotlib\n",
    "import matplotlib.pyplot as plt"
   ]
  },
  {
   "cell_type": "markdown",
   "metadata": {},
   "source": [
    "## Download data, train-test split"
   ]
  },
  {
   "cell_type": "markdown",
   "metadata": {},
   "source": [
    "We're going to download the ```MNIST``` dataset again, so that we compare this pipeline to the baseline benchmarks we created previously."
   ]
  },
  {
   "cell_type": "code",
   "execution_count": 2,
   "metadata": {
    "execution": {
     "iopub.execute_input": "2023-03-17T12:53:10.650669Z",
     "iopub.status.busy": "2023-03-17T12:53:10.650045Z",
     "iopub.status.idle": "2023-03-17T12:54:23.086512Z",
     "shell.execute_reply": "2023-03-17T12:54:23.085200Z",
     "shell.execute_reply.started": "2023-03-17T12:53:10.650617Z"
    }
   },
   "outputs": [
    {
     "name": "stderr",
     "output_type": "stream",
     "text": [
      "/opt/conda/lib/python3.9/site-packages/sklearn/datasets/_openml.py:968: FutureWarning: The default value of `parser` will change from `'liac-arff'` to `'auto'` in 1.4. You can set `parser='auto'` to silence this warning. Therefore, an `ImportError` will be raised from 1.4 if the dataset is dense and pandas is not installed. Note that the pandas parser may return different data types. See the Notes Section in fetch_openml's API doc for details.\n",
      "  warn(\n"
     ]
    }
   ],
   "source": [
    "data, labels = fetch_openml('mnist_784', version=1, return_X_y=True)\n",
    "\n",
    "# normalise data\n",
    "data = data.astype(\"float\")/255.0\n",
    "\n",
    "# split data\n",
    "(X_train, X_test, y_train, y_test) = train_test_split(data,\n",
    "                                                    labels, \n",
    "                                                    test_size=0.2)"
   ]
  },
  {
   "cell_type": "code",
   "execution_count": 3,
   "metadata": {
    "execution": {
     "iopub.execute_input": "2023-03-17T12:54:23.165406Z",
     "iopub.status.busy": "2023-03-17T12:54:23.165132Z",
     "iopub.status.idle": "2023-03-17T12:54:23.372015Z",
     "shell.execute_reply": "2023-03-17T12:54:23.371107Z",
     "shell.execute_reply.started": "2023-03-17T12:54:23.165372Z"
    }
   },
   "outputs": [],
   "source": [
    "# convert labels to one-hot encoding\n",
    "lb = LabelBinarizer()\n",
    "y_train = lb.fit_transform(y_train)\n",
    "y_test = lb.fit_transform(y_test)"
   ]
  },
  {
   "cell_type": "markdown",
   "metadata": {},
   "source": [
    "## Define neural network architecture using ```tf.keras```\n",
    "\n",
    "We're now going to create our neural network using ```TensorFlow```. In particular, we're going to using the ```keras``` wrapper which makes the syntax a bit simpler to work with.\n",
    "\n",
    "The code below makes a fully-connected, feed-forward neural network with the following features:\n",
    "\n",
    "- Input layer of 784\n",
    "- One hidden layer of 256\n",
    "- Second hidden layer of 128\n",
    "- An output layer of 10 nodes"
   ]
  },
  {
   "cell_type": "code",
   "execution_count": 4,
   "metadata": {
    "execution": {
     "iopub.execute_input": "2023-03-17T12:54:23.374152Z",
     "iopub.status.busy": "2023-03-17T12:54:23.373697Z",
     "iopub.status.idle": "2023-03-17T12:54:23.797159Z",
     "shell.execute_reply": "2023-03-17T12:54:23.795789Z",
     "shell.execute_reply.started": "2023-03-17T12:54:23.374130Z"
    }
   },
   "outputs": [
    {
     "name": "stderr",
     "output_type": "stream",
     "text": [
      "2023-03-17 13:54:23.608536: I tensorflow/core/platform/cpu_feature_guard.cc:193] This TensorFlow binary is optimized with oneAPI Deep Neural Network Library (oneDNN) to use the following CPU instructions in performance-critical operations:  AVX2 AVX512F FMA\n",
      "To enable them in other operations, rebuild TensorFlow with the appropriate compiler flags.\n"
     ]
    }
   ],
   "source": [
    "# define architecture 784x256x128x10\n",
    "model = Sequential()\n",
    "model.add(Dense(256, \n",
    "                input_shape=(784,), \n",
    "                activation=\"relu\"))\n",
    "model.add(Dense(128, \n",
    "                activation=\"relu\"))\n",
    "model.add(Dense(10, \n",
    "                activation=\"softmax\"))"
   ]
  },
  {
   "cell_type": "markdown",
   "metadata": {},
   "source": [
    "## Show summary of model architecture"
   ]
  },
  {
   "cell_type": "code",
   "execution_count": 5,
   "metadata": {
    "execution": {
     "iopub.execute_input": "2023-03-17T12:54:23.799424Z",
     "iopub.status.busy": "2023-03-17T12:54:23.798943Z",
     "iopub.status.idle": "2023-03-17T12:54:23.942223Z",
     "shell.execute_reply": "2023-03-17T12:54:23.940917Z",
     "shell.execute_reply.started": "2023-03-17T12:54:23.799379Z"
    }
   },
   "outputs": [
    {
     "name": "stdout",
     "output_type": "stream",
     "text": [
      "Model: \"sequential\"\n",
      "_________________________________________________________________\n",
      " Layer (type)                Output Shape              Param #   \n",
      "=================================================================\n",
      " dense (Dense)               (None, 256)               200960    \n",
      "                                                                 \n",
      " dense_1 (Dense)             (None, 128)               32896     \n",
      "                                                                 \n",
      " dense_2 (Dense)             (None, 10)                1290      \n",
      "                                                                 \n",
      "=================================================================\n",
      "Total params: 235,146\n",
      "Trainable params: 235,146\n",
      "Non-trainable params: 0\n",
      "_________________________________________________________________\n"
     ]
    }
   ],
   "source": [
    "model.summary()"
   ]
  },
  {
   "cell_type": "markdown",
   "metadata": {},
   "source": [
    "## Visualise model layers"
   ]
  },
  {
   "cell_type": "markdown",
   "metadata": {},
   "source": [
    "If you want to do view this, there are some extra things that you can install - ```TensorFlow``` gives you instructions to do that.\n",
    "\n",
    "**NB:** This might not work on Windows (but I'm not sure)."
   ]
  },
  {
   "cell_type": "code",
   "execution_count": 6,
   "metadata": {
    "execution": {
     "iopub.execute_input": "2023-03-17T12:54:23.944891Z",
     "iopub.status.busy": "2023-03-17T12:54:23.944388Z",
     "iopub.status.idle": "2023-03-17T12:54:24.157664Z",
     "shell.execute_reply": "2023-03-17T12:54:24.156483Z",
     "shell.execute_reply.started": "2023-03-17T12:54:23.944850Z"
    }
   },
   "outputs": [
    {
     "name": "stdout",
     "output_type": "stream",
     "text": [
      "You must install pydot (`pip install pydot`) and install graphviz (see instructions at https://graphviz.gitlab.io/download/) for plot_model to work.\n"
     ]
    }
   ],
   "source": [
    "plot_model(model, show_shapes=True, show_layer_names=True)"
   ]
  },
  {
   "cell_type": "markdown",
   "metadata": {},
   "source": [
    "## Compile model loss function, optimizer, and preferred metrics"
   ]
  },
  {
   "cell_type": "markdown",
   "metadata": {},
   "source": [
    "One of the big differences with ```TensorFlow``` vs ```scikit-learn``` is that we have much more control over how the optimization algorithm works.\n",
    "\n",
    "We initalize the optimizer and then we have to *compile* the model."
   ]
  },
  {
   "cell_type": "code",
   "execution_count": 7,
   "metadata": {
    "execution": {
     "iopub.execute_input": "2023-03-17T12:54:24.159732Z",
     "iopub.status.busy": "2023-03-17T12:54:24.159277Z",
     "iopub.status.idle": "2023-03-17T12:54:24.365593Z",
     "shell.execute_reply": "2023-03-17T12:54:24.364425Z",
     "shell.execute_reply.started": "2023-03-17T12:54:24.159689Z"
    }
   },
   "outputs": [],
   "source": [
    "# train model using SGD\n",
    "sgd = SGD(0.01)\n",
    "model.compile(loss=\"categorical_crossentropy\", \n",
    "              optimizer=sgd, \n",
    "              metrics=[\"accuracy\"])"
   ]
  },
  {
   "cell_type": "markdown",
   "metadata": {},
   "source": [
    "## Train model and save history"
   ]
  },
  {
   "cell_type": "markdown",
   "metadata": {},
   "source": [
    "Once we've done that, it's just a case of fitting the model to the data."
   ]
  },
  {
   "cell_type": "code",
   "execution_count": 8,
   "metadata": {
    "execution": {
     "iopub.execute_input": "2023-03-17T12:54:24.367774Z",
     "iopub.status.busy": "2023-03-17T12:54:24.367308Z",
     "iopub.status.idle": "2023-03-17T12:55:34.699944Z",
     "shell.execute_reply": "2023-03-17T12:55:34.698717Z",
     "shell.execute_reply.started": "2023-03-17T12:54:24.367732Z"
    }
   },
   "outputs": [
    {
     "name": "stdout",
     "output_type": "stream",
     "text": [
      "Epoch 1/10\n",
      "1750/1750 [==============================] - 8s 4ms/step - loss: 0.5997 - accuracy: 0.8450 - val_loss: 0.3175 - val_accuracy: 0.9105\n",
      "Epoch 2/10\n",
      "1750/1750 [==============================] - 7s 4ms/step - loss: 0.2826 - accuracy: 0.9190 - val_loss: 0.2524 - val_accuracy: 0.9288\n",
      "Epoch 3/10\n",
      "1750/1750 [==============================] - 7s 4ms/step - loss: 0.2299 - accuracy: 0.9343 - val_loss: 0.2170 - val_accuracy: 0.9384\n",
      "Epoch 4/10\n",
      "1750/1750 [==============================] - 7s 4ms/step - loss: 0.1961 - accuracy: 0.9435 - val_loss: 0.1921 - val_accuracy: 0.9455\n",
      "Epoch 5/10\n",
      "1750/1750 [==============================] - 7s 4ms/step - loss: 0.1711 - accuracy: 0.9510 - val_loss: 0.1724 - val_accuracy: 0.9494\n",
      "Epoch 6/10\n",
      "1750/1750 [==============================] - 7s 4ms/step - loss: 0.1519 - accuracy: 0.9566 - val_loss: 0.1550 - val_accuracy: 0.9548\n",
      "Epoch 7/10\n",
      "1750/1750 [==============================] - 7s 4ms/step - loss: 0.1365 - accuracy: 0.9617 - val_loss: 0.1465 - val_accuracy: 0.9566\n",
      "Epoch 8/10\n",
      "1750/1750 [==============================] - 7s 4ms/step - loss: 0.1238 - accuracy: 0.9654 - val_loss: 0.1355 - val_accuracy: 0.9594\n",
      "Epoch 9/10\n",
      "1750/1750 [==============================] - 7s 4ms/step - loss: 0.1132 - accuracy: 0.9679 - val_loss: 0.1256 - val_accuracy: 0.9629\n",
      "Epoch 10/10\n",
      "1750/1750 [==============================] - 7s 4ms/step - loss: 0.1038 - accuracy: 0.9708 - val_loss: 0.1194 - val_accuracy: 0.9641\n"
     ]
    }
   ],
   "source": [
    "history = model.fit(X_train, y_train, \n",
    "                    validation_data=(X_test, y_test), \n",
    "                    epochs=10, \n",
    "                    batch_size=32)"
   ]
  },
  {
   "cell_type": "markdown",
   "metadata": {},
   "source": [
    "## Visualise using ```matplotlib```"
   ]
  },
  {
   "cell_type": "code",
   "execution_count": 9,
   "metadata": {
    "execution": {
     "iopub.execute_input": "2023-03-17T12:55:34.704649Z",
     "iopub.status.busy": "2023-03-17T12:55:34.703399Z",
     "iopub.status.idle": "2023-03-17T12:55:35.278745Z",
     "shell.execute_reply": "2023-03-17T12:55:35.278132Z",
     "shell.execute_reply.started": "2023-03-17T12:55:34.704561Z"
    }
   },
   "outputs": [
    {
     "data": {
      "image/png": "[encoded data removed]",
      "text/plain": [
       "<Figure size 432x288 with 1 Axes>"
      ]
     },
     "metadata": {
      "needs_background": "light"
     },
     "output_type": "display_data"
    }
   ],
   "source": [
    "plt.style.use(\"fivethirtyeight\")\n",
    "plt.figure()\n",
    "plt.plot(np.arange(0, 10), history.history[\"loss\"], label=\"train_loss\")\n",
    "plt.plot(np.arange(0, 10), history.history[\"val_loss\"], label=\"val_loss\", linestyle=\":\")\n",
    "plt.plot(np.arange(0, 10), history.history[\"accuracy\"], label=\"train_acc\")\n",
    "plt.plot(np.arange(0, 10), history.history[\"val_accuracy\"], label=\"val_acc\", linestyle=\":\")\n",
    "plt.title(\"Training Loss and Accuracy\")\n",
    "plt.xlabel(\"Epoch #\")\n",
    "plt.ylabel(\"Loss/Accuracy\")\n",
    "plt.tight_layout()\n",
    "plt.legend()\n",
    "plt.show()"
   ]
  },
  {
   "cell_type": "markdown",
   "metadata": {},
   "source": [
    "## Classifier metrics"
   ]
  },
  {
   "cell_type": "markdown",
   "metadata": {},
   "source": [
    "We need to do a little bit of extra work to get the classification report to work properly."
   ]
  },
  {
   "cell_type": "code",
   "execution_count": 10,
   "metadata": {
    "execution": {
     "iopub.execute_input": "2023-03-17T12:55:35.282858Z",
     "iopub.status.busy": "2023-03-17T12:55:35.282365Z",
     "iopub.status.idle": "2023-03-17T12:55:36.878207Z",
     "shell.execute_reply": "2023-03-17T12:55:36.877543Z",
     "shell.execute_reply.started": "2023-03-17T12:55:35.282817Z"
    }
   },
   "outputs": [
    {
     "name": "stdout",
     "output_type": "stream",
     "text": [
      "[INFO] evaluating network...\n",
      "438/438 [==============================] - 1s 2ms/step\n"
     ]
    }
   ],
   "source": [
    "# evaluate network\n",
    "print(\"[INFO] evaluating network...\")\n",
    "predictions = model.predict(X_test, batch_size=32)"
   ]
  },
  {
   "cell_type": "code",
   "execution_count": 11,
   "metadata": {
    "execution": {
     "iopub.execute_input": "2023-03-17T12:55:36.891607Z",
     "iopub.status.busy": "2023-03-17T12:55:36.890935Z",
     "iopub.status.idle": "2023-03-17T12:55:36.955519Z",
     "shell.execute_reply": "2023-03-17T12:55:36.954508Z",
     "shell.execute_reply.started": "2023-03-17T12:55:36.891563Z"
    }
   },
   "outputs": [
    {
     "name": "stdout",
     "output_type": "stream",
     "text": [
      "              precision    recall  f1-score   support\n",
      "\n",
      "           0       0.98      0.97      0.97      1424\n",
      "           1       0.98      0.98      0.98      1580\n",
      "           2       0.97      0.96      0.96      1438\n",
      "           3       0.95      0.96      0.96      1388\n",
      "           4       0.95      0.97      0.96      1351\n",
      "           5       0.96      0.96      0.96      1280\n",
      "           6       0.97      0.98      0.98      1377\n",
      "           7       0.97      0.96      0.96      1437\n",
      "           8       0.95      0.95      0.95      1359\n",
      "           9       0.95      0.94      0.95      1366\n",
      "\n",
      "    accuracy                           0.96     14000\n",
      "   macro avg       0.96      0.96      0.96     14000\n",
      "weighted avg       0.96      0.96      0.96     14000\n",
      "\n"
     ]
    }
   ],
   "source": [
    "print(classification_report(y_test.argmax(axis=1), \n",
    "                            predictions.argmax(axis=1), \n",
    "                            target_names=[str(x) for x in lb.classes_]))"
   ]
  },
  {
   "cell_type": "markdown",
   "metadata": {},
   "source": [
    "### Task\n",
    "\n",
    "1. Turn the above into a ```.py``` script which can be run from the command line. Use argparse if you think it's relevant!\n",
    "2. Use this notebook as a template to train a neural network on the ```Cifar-10``` dataset instead of ```MNIST```.\n",
    "3. Turn *that* notebook into a ```.py``` script, too"
   ]
  }
 ],
 "metadata": {
  "kernelspec": {
   "display_name": "Python 3 ",
   "language": "python",
   "name": "python3"
  },
  "language_info": {
   "codemirror_mode": {
    "name": "ipython",
    "version": 3
   },
   "file_extension": ".py",
   "mimetype": "text/x-python",
   "name": "python",
   "nbconvert_exporter": "python",
   "pygments_lexer": "ipython3",
   "version": "3.9.6"
  },
  "vscode": {
   "interpreter": {
    "hash": "767d51c1340bd893661ea55ea3124f6de3c7a262a8b4abca0554b478b1e2ff90"
   }
  }
 },
 "nbformat": 4,
 "nbformat_minor": 4
}
