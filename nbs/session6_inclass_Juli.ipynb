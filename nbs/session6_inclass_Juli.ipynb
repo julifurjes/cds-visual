{
 "cells": [
  {
   "cell_type": "markdown",
   "id": "3b5394ff",
   "metadata": {},
   "source": [
    "# Session 6 - Benchmark classification on ```cifar-10```\n",
    "\n",
    "This notebook builds on what we were doing last week with the handwritten digits from the MNIST dataset.\n",
    "\n",
    "This week, we're working with another famous dataset in computer vision and image processing research - [cifar10](https://www.cs.toronto.edu/~kriz/cifar.html)."
   ]
  },
  {
   "cell_type": "code",
   "execution_count": 10,
   "id": "b1259692",
   "metadata": {
    "execution": {
     "iopub.execute_input": "2023-03-10T12:15:19.843497Z",
     "iopub.status.busy": "2023-03-10T12:15:19.842983Z",
     "iopub.status.idle": "2023-03-10T12:15:19.885563Z",
     "shell.execute_reply": "2023-03-10T12:15:19.885065Z",
     "shell.execute_reply.started": "2023-03-10T12:15:19.843448Z"
    },
    "tags": []
   },
   "outputs": [],
   "source": [
    "# path tools\n",
    "import os\n",
    "\n",
    "# data loader\n",
    "from tensorflow.keras.datasets import cifar10\n",
    "\n",
    "# machine learning tools\n",
    "from sklearn.preprocessing import LabelBinarizer\n",
    "from sklearn.model_selection import train_test_split\n",
    "from sklearn.metrics import classification_report\n",
    "\n",
    "# classificatio models\n",
    "from sklearn.linear_model import LogisticRegression\n",
    "from sklearn.neural_network import MLPClassifier\n",
    "\n",
    "import numpy as np\n",
    "import cv2"
   ]
  },
  {
   "cell_type": "markdown",
   "id": "7343d4b5",
   "metadata": {},
   "source": [
    "We're going to load the data using a function from the library ```TensorFlow```, which we'll be looking at in more detail next week. \n",
    "\n",
    "For now, we're just using it to fetch the data!"
   ]
  },
  {
   "cell_type": "code",
   "execution_count": 2,
   "id": "53b7aa5c",
   "metadata": {
    "execution": {
     "iopub.execute_input": "2023-03-10T12:13:20.745262Z",
     "iopub.status.busy": "2023-03-10T12:13:20.744632Z",
     "iopub.status.idle": "2023-03-10T12:13:30.524266Z",
     "shell.execute_reply": "2023-03-10T12:13:30.523294Z",
     "shell.execute_reply.started": "2023-03-10T12:13:20.745212Z"
    },
    "tags": []
   },
   "outputs": [
    {
     "name": "stdout",
     "output_type": "stream",
     "text": [
      "Downloading data from https://www.cs.toronto.edu/~kriz/cifar-10-python.tar.gz\n",
      "170498071/170498071 [==============================] - 7s 0us/step\n"
     ]
    }
   ],
   "source": [
    "(X_train, y_train), (X_test, y_test) = cifar10.load_data()"
   ]
  },
  {
   "cell_type": "markdown",
   "id": "b588be73",
   "metadata": {},
   "source": [
    "**Question:** What is the shape of the data?"
   ]
  },
  {
   "cell_type": "code",
   "execution_count": 3,
   "id": "c5e0a4da",
   "metadata": {
    "execution": {
     "iopub.execute_input": "2023-03-10T12:13:37.024250Z",
     "iopub.status.busy": "2023-03-10T12:13:37.023611Z",
     "iopub.status.idle": "2023-03-10T12:13:37.033769Z",
     "shell.execute_reply": "2023-03-10T12:13:37.032896Z",
     "shell.execute_reply.started": "2023-03-10T12:13:37.024198Z"
    }
   },
   "outputs": [
    {
     "data": {
      "text/plain": [
       "(50000, 32, 32, 3)"
      ]
     },
     "execution_count": 3,
     "metadata": {},
     "output_type": "execute_result"
    }
   ],
   "source": [
    "X_train.shape"
   ]
  },
  {
   "cell_type": "markdown",
   "id": "fd02fcbe",
   "metadata": {},
   "source": [
    "Unfortunately, this version of the data set doesn't have explict labels, so we need to create our own."
   ]
  },
  {
   "cell_type": "code",
   "execution_count": 4,
   "id": "37a4fcb9",
   "metadata": {
    "execution": {
     "iopub.execute_input": "2023-03-10T12:13:48.119777Z",
     "iopub.status.busy": "2023-03-10T12:13:48.119141Z",
     "iopub.status.idle": "2023-03-10T12:13:48.127040Z",
     "shell.execute_reply": "2023-03-10T12:13:48.125909Z",
     "shell.execute_reply.started": "2023-03-10T12:13:48.119722Z"
    },
    "tags": []
   },
   "outputs": [],
   "source": [
    "labels = [\"airplane\", \n",
    "          \"automobile\", \n",
    "          \"bird\", \n",
    "          \"cat\", \n",
    "          \"deer\", \n",
    "          \"dog\", \n",
    "          \"frog\", \n",
    "          \"horse\", \n",
    "          \"ship\", \n",
    "          \"truck\"]"
   ]
  },
  {
   "cell_type": "markdown",
   "id": "46b59d57",
   "metadata": {},
   "source": [
    "### Convert all the data to greyscale"
   ]
  },
  {
   "cell_type": "markdown",
   "id": "6f5391f3",
   "metadata": {},
   "source": [
    "In the following cell, I'm converting all of my images to greyscale and then making a ```numpy``` array at the end.\n",
    "\n",
    "Notice that I'm using something funky here called *[list comprehensions](https://docs.python.org/3/tutorial/datastructures.html#list-comprehensions)*."
   ]
  },
  {
   "cell_type": "code",
   "execution_count": 11,
   "id": "26c61c47",
   "metadata": {
    "execution": {
     "iopub.execute_input": "2023-03-10T12:15:24.320580Z",
     "iopub.status.busy": "2023-03-10T12:15:24.320068Z",
     "iopub.status.idle": "2023-03-10T12:15:24.874275Z",
     "shell.execute_reply": "2023-03-10T12:15:24.873694Z",
     "shell.execute_reply.started": "2023-03-10T12:15:24.320530Z"
    },
    "tags": []
   },
   "outputs": [],
   "source": [
    "X_train_grey = np.array([cv2.cvtColor(image, cv2.COLOR_BGR2GRAY) for image in X_train])\n",
    "X_test_grey = np.array([cv2.cvtColor(image, cv2.COLOR_BGR2GRAY) for image in X_test])"
   ]
  },
  {
   "cell_type": "markdown",
   "id": "9703dbdc",
   "metadata": {},
   "source": [
    "Then, we're going to do some simple scaling by dividing by 255."
   ]
  },
  {
   "cell_type": "code",
   "execution_count": 12,
   "id": "8fe4e0bb",
   "metadata": {
    "execution": {
     "iopub.execute_input": "2023-03-10T12:15:27.637600Z",
     "iopub.status.busy": "2023-03-10T12:15:27.637094Z",
     "iopub.status.idle": "2023-03-10T12:15:27.794058Z",
     "shell.execute_reply": "2023-03-10T12:15:27.793366Z",
     "shell.execute_reply.started": "2023-03-10T12:15:27.637549Z"
    },
    "tags": []
   },
   "outputs": [],
   "source": [
    "X_train_scaled = (X_train_grey)/255.0\n",
    "X_test_scaled = (X_test_grey)/255.0"
   ]
  },
  {
   "cell_type": "markdown",
   "id": "4c06ccf9",
   "metadata": {},
   "source": [
    "### Reshaping the data"
   ]
  },
  {
   "cell_type": "markdown",
   "id": "c141a5e2",
   "metadata": {},
   "source": [
    "Next, we're going to reshape this data. "
   ]
  },
  {
   "cell_type": "code",
   "execution_count": 13,
   "id": "abfcdbed",
   "metadata": {
    "execution": {
     "iopub.execute_input": "2023-03-10T12:15:30.387683Z",
     "iopub.status.busy": "2023-03-10T12:15:30.387046Z",
     "iopub.status.idle": "2023-03-10T12:15:30.394131Z",
     "shell.execute_reply": "2023-03-10T12:15:30.393025Z",
     "shell.execute_reply.started": "2023-03-10T12:15:30.387631Z"
    },
    "tags": []
   },
   "outputs": [],
   "source": [
    "nsamples, nx, ny = X_train_scaled.shape\n",
    "X_train_dataset = X_train_scaled.reshape((nsamples,nx*ny))"
   ]
  },
  {
   "cell_type": "code",
   "execution_count": 14,
   "id": "41d62168",
   "metadata": {
    "execution": {
     "iopub.execute_input": "2023-03-10T12:15:36.703157Z",
     "iopub.status.busy": "2023-03-10T12:15:36.702633Z",
     "iopub.status.idle": "2023-03-10T12:15:36.709947Z",
     "shell.execute_reply": "2023-03-10T12:15:36.708866Z",
     "shell.execute_reply.started": "2023-03-10T12:15:36.703110Z"
    },
    "tags": []
   },
   "outputs": [],
   "source": [
    "nsamples, nx, ny = X_test_scaled.shape\n",
    "X_test_dataset = X_test_scaled.reshape((nsamples,nx*ny))"
   ]
  },
  {
   "cell_type": "markdown",
   "id": "cff1c2bb",
   "metadata": {},
   "source": [
    "## Simple logistic regression classifier"
   ]
  },
  {
   "cell_type": "markdown",
   "id": "15bdea84",
   "metadata": {},
   "source": [
    "We define our Logistic Regression classifier as we have done previously. You'll notice that I've set a lot of different parameters here - you can learn more in the documentation [here](https://scikit-learn.org/stable/modules/generated/sklearn.linear_model.LogisticRegression.html)."
   ]
  },
  {
   "cell_type": "code",
   "execution_count": 15,
   "id": "a5637321",
   "metadata": {
    "execution": {
     "iopub.execute_input": "2023-03-10T12:15:39.317835Z",
     "iopub.status.busy": "2023-03-10T12:15:39.317194Z",
     "iopub.status.idle": "2023-03-10T12:15:49.516382Z",
     "shell.execute_reply": "2023-03-10T12:15:49.515641Z",
     "shell.execute_reply.started": "2023-03-10T12:15:39.317757Z"
    }
   },
   "outputs": [
    {
     "name": "stderr",
     "output_type": "stream",
     "text": [
      "/opt/conda/lib/python3.9/site-packages/sklearn/linear_model/_logistic.py:1173: FutureWarning: `penalty='none'`has been deprecated in 1.2 and will be removed in 1.4. To keep the past behaviour, set `penalty=None`.\n",
      "  warnings.warn(\n",
      "/opt/conda/lib/python3.9/site-packages/sklearn/utils/validation.py:1143: DataConversionWarning: A column-vector y was passed when a 1d array was expected. Please change the shape of y to (n_samples, ), for example using ravel().\n",
      "  y = column_or_1d(y, warn=True)\n",
      "[Parallel(n_jobs=1)]: Using backend SequentialBackend with 1 concurrent workers.\n"
     ]
    },
    {
     "name": "stdout",
     "output_type": "stream",
     "text": [
      "convergence after 4 epochs took 10 seconds\n"
     ]
    },
    {
     "name": "stderr",
     "output_type": "stream",
     "text": [
      "[Parallel(n_jobs=1)]: Done   1 out of   1 | elapsed:   10.1s finished\n"
     ]
    }
   ],
   "source": [
    "clf = LogisticRegression(penalty=\"none\",\n",
    "                        tol=0.1,\n",
    "                        verbose=True,\n",
    "                        solver=\"saga\",\n",
    "                        multi_class=\"multinomial\").fit(X_train_dataset, y_train)"
   ]
  },
  {
   "cell_type": "code",
   "execution_count": 16,
   "id": "4d3be91c",
   "metadata": {
    "execution": {
     "iopub.execute_input": "2023-03-10T12:15:49.551196Z",
     "iopub.status.busy": "2023-03-10T12:15:49.551053Z",
     "iopub.status.idle": "2023-03-10T12:15:49.578972Z",
     "shell.execute_reply": "2023-03-10T12:15:49.571010Z",
     "shell.execute_reply.started": "2023-03-10T12:15:49.551180Z"
    },
    "tags": []
   },
   "outputs": [],
   "source": [
    "y_pred = clf.predict(X_test_dataset)"
   ]
  },
  {
   "cell_type": "markdown",
   "id": "bc10cdb4",
   "metadata": {},
   "source": [
    "We can then print our classification report, using the label names that we defined earlier."
   ]
  },
  {
   "cell_type": "code",
   "execution_count": 17,
   "id": "542fa048",
   "metadata": {
    "execution": {
     "iopub.execute_input": "2023-03-10T12:15:49.582876Z",
     "iopub.status.busy": "2023-03-10T12:15:49.582382Z",
     "iopub.status.idle": "2023-03-10T12:15:49.814680Z",
     "shell.execute_reply": "2023-03-10T12:15:49.814080Z",
     "shell.execute_reply.started": "2023-03-10T12:15:49.582833Z"
    },
    "tags": []
   },
   "outputs": [
    {
     "name": "stdout",
     "output_type": "stream",
     "text": [
      "              precision    recall  f1-score   support\n",
      "\n",
      "    airplane       0.33      0.42      0.37      1000\n",
      "  automobile       0.37      0.37      0.37      1000\n",
      "        bird       0.25      0.25      0.25      1000\n",
      "         cat       0.24      0.12      0.16      1000\n",
      "        deer       0.25      0.17      0.20      1000\n",
      "         dog       0.28      0.34      0.31      1000\n",
      "        frog       0.29      0.32      0.30      1000\n",
      "       horse       0.33      0.30      0.31      1000\n",
      "        ship       0.34      0.40      0.37      1000\n",
      "       truck       0.39      0.45      0.42      1000\n",
      "\n",
      "    accuracy                           0.31     10000\n",
      "   macro avg       0.31      0.31      0.31     10000\n",
      "weighted avg       0.31      0.31      0.31     10000\n",
      "\n"
     ]
    }
   ],
   "source": [
    "report = classification_report(y_test, \n",
    "                               y_pred, \n",
    "                               target_names=labels)\n",
    "print(report)"
   ]
  },
  {
   "cell_type": "markdown",
   "id": "645567cd",
   "metadata": {},
   "source": [
    "## Neural network classifier"
   ]
  },
  {
   "cell_type": "markdown",
   "id": "79f6d9b4",
   "metadata": {},
   "source": [
    "I've set a couple of different parameters here - you can see more in the [documentation](https://scikit-learn.org/stable/modules/generated/sklearn.neural_network.MLPClassifier.html).\n",
    "\n",
    "**NB!** This will take a long time to run! On the 32 CPU machine on UCloud, this takes around 30 seconds per iteration."
   ]
  },
  {
   "cell_type": "code",
   "execution_count": null,
   "id": "f04214d4",
   "metadata": {
    "execution": {
     "iopub.execute_input": "2023-03-10T12:15:49.815581Z",
     "iopub.status.busy": "2023-03-10T12:15:49.815432Z"
    },
    "tags": []
   },
   "outputs": [
    {
     "name": "stderr",
     "output_type": "stream",
     "text": [
      "/opt/conda/lib/python3.9/site-packages/sklearn/neural_network/_multilayer_perceptron.py:1098: DataConversionWarning: A column-vector y was passed when a 1d array was expected. Please change the shape of y to (n_samples, ), for example using ravel().\n",
      "  y = column_or_1d(y, warn=True)\n"
     ]
    },
    {
     "name": "stdout",
     "output_type": "stream",
     "text": [
      "Iteration 1, loss = 2.30872956\n",
      "Validation score: 0.133000\n",
      "Iteration 2, loss = 2.15971661\n",
      "Validation score: 0.239200\n",
      "Iteration 3, loss = 2.02581278\n",
      "Validation score: 0.265200\n",
      "Iteration 4, loss = 1.97076182\n",
      "Validation score: 0.281800\n",
      "Iteration 5, loss = 1.93555578\n",
      "Validation score: 0.302600\n",
      "Iteration 6, loss = 1.90926190\n",
      "Validation score: 0.315600\n",
      "Iteration 7, loss = 1.89160286\n",
      "Validation score: 0.318800\n",
      "Iteration 8, loss = 1.87500641\n",
      "Validation score: 0.322200\n",
      "Iteration 9, loss = 1.86730610\n",
      "Validation score: 0.316800\n",
      "Iteration 10, loss = 1.85845283\n",
      "Validation score: 0.321200\n",
      "Iteration 11, loss = 1.84549829\n",
      "Validation score: 0.331400\n",
      "Iteration 12, loss = 1.83590762\n",
      "Validation score: 0.328600\n",
      "Iteration 13, loss = 1.82908945\n",
      "Validation score: 0.331400\n"
     ]
    }
   ],
   "source": [
    "clf = MLPClassifier(random_state=42,\n",
    "                    hidden_layer_sizes=(64, 10),\n",
    "                    learning_rate=\"adaptive\",\n",
    "                    early_stopping=True,\n",
    "                    verbose=True,\n",
    "                    max_iter=20).fit(X_train_dataset, y_train)\n",
    "\n",
    "# first we trained the data (printing the score of loss)\n",
    "# then we validate it (data taken from the training dataset) and get an accuracy score\n",
    "# then testing it on the test dataset"
   ]
  },
  {
   "cell_type": "code",
   "execution_count": null,
   "id": "1d821478",
   "metadata": {},
   "outputs": [],
   "source": [
    "y_pred = clf.predict(X_test_dataset)"
   ]
  },
  {
   "cell_type": "markdown",
   "id": "e489977e",
   "metadata": {},
   "source": [
    "Lastly, we can get our classification report as usual."
   ]
  },
  {
   "cell_type": "code",
   "execution_count": null,
   "id": "0313fe44",
   "metadata": {},
   "outputs": [],
   "source": [
    "report = classification_report(y_test, \n",
    "                               y_pred, \n",
    "                               target_names=labels)\n",
    "print(report)"
   ]
  },
  {
   "cell_type": "markdown",
   "id": "4a5067ab",
   "metadata": {},
   "source": [
    "## Tasks\n",
    "\n",
    "Take the code outlined in this notebook and turn it into two separate Python scripts, one which performs Logistic Regression classification and one which uses the MLPClassifier on the ```Cifar10``` dataset.\n",
    "\n",
    "Try to use the things we've spoken about in clas\n",
    "- Requirements.txt\n",
    "- Virtual environment\n",
    "- Setup scripts\n",
    "- Argparse\n",
    "\n",
    "This task is [Assignment 2 for Visual Analytics](https://classroom.github.com/a/KLVvny7d)."
   ]
  }
 ],
 "metadata": {
  "kernelspec": {
   "display_name": "Python 3 ",
   "language": "python",
   "name": "python3"
  },
  "language_info": {
   "codemirror_mode": {
    "name": "ipython",
    "version": 3
   },
   "file_extension": ".py",
   "mimetype": "text/x-python",
   "name": "python",
   "nbconvert_exporter": "python",
   "pygments_lexer": "ipython3",
   "version": "3.9.6"
  }
 },
 "nbformat": 4,
 "nbformat_minor": 5
}
