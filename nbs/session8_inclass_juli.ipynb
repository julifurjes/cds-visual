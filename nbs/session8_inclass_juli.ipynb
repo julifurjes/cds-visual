{
 "cells": [
  {
   "attachments": {},
   "cell_type": "markdown",
   "metadata": {},
   "source": [
    "# Introducing CNNS with TensorFlow\n",
    "\n",
    "\n",
    "In this notebook, we're going to see how we can use ```TensorFlow``` to build convolutional neural networks to work with colour image data."
   ]
  },
  {
   "cell_type": "markdown",
   "metadata": {},
   "source": [
    "## Load libraries"
   ]
  },
  {
   "cell_type": "code",
   "execution_count": 1,
   "metadata": {
    "execution": {
     "iopub.execute_input": "2022-04-06T10:39:13.301627Z",
     "iopub.status.busy": "2022-04-06T10:39:13.301074Z",
     "iopub.status.idle": "2022-04-06T10:39:15.489769Z",
     "shell.execute_reply": "2022-04-06T10:39:15.488116Z",
     "shell.execute_reply.started": "2022-04-06T10:39:13.301569Z"
    }
   },
   "outputs": [
    {
     "name": "stderr",
     "output_type": "stream",
     "text": [
      "2023-03-31 13:38:00.173143: I tensorflow/tsl/cuda/cudart_stub.cc:28] Could not find cuda drivers on your machine, GPU will not be used.\n",
      "2023-03-31 13:38:00.288809: I tensorflow/tsl/cuda/cudart_stub.cc:28] Could not find cuda drivers on your machine, GPU will not be used.\n",
      "2023-03-31 13:38:00.290745: I tensorflow/core/platform/cpu_feature_guard.cc:182] This TensorFlow binary is optimized to use available CPU instructions in performance-critical operations.\n",
      "To enable the following instructions: AVX2 AVX512F FMA, in other operations, rebuild TensorFlow with the appropriate compiler flags.\n",
      "2023-03-31 13:38:01.885431: W tensorflow/compiler/tf2tensorrt/utils/py_utils.cc:38] TF-TRT Warning: Could not find TensorRT\n"
     ]
    }
   ],
   "source": [
    "# data tools\n",
    "import os\n",
    "import numpy as np\n",
    "import matplotlib.pyplot as plt\n",
    "\n",
    "# sklearn tools\n",
    "from sklearn.preprocessing import LabelBinarizer\n",
    "from sklearn.metrics import classification_report\n",
    "\n",
    "# tf tools\n",
    "from tensorflow.keras.datasets import cifar10\n",
    "from tensorflow.keras.models import Sequential\n",
    "from tensorflow.keras.layers import (Conv2D, \n",
    "                                     MaxPooling2D, \n",
    "                                     Activation, \n",
    "                                     Flatten, \n",
    "                                     Dense)\n",
    "from tensorflow.keras.utils import plot_model\n",
    "from tensorflow.keras.optimizers import SGD\n",
    "from tensorflow.keras import backend as K"
   ]
  },
  {
   "cell_type": "markdown",
   "metadata": {},
   "source": [
    "__Define plotting function__"
   ]
  },
  {
   "cell_type": "code",
   "execution_count": 2,
   "metadata": {
    "execution": {
     "iopub.execute_input": "2022-04-06T10:43:29.152312Z",
     "iopub.status.busy": "2022-04-06T10:43:29.151745Z",
     "iopub.status.idle": "2022-04-06T10:43:29.166643Z",
     "shell.execute_reply": "2022-04-06T10:43:29.165251Z",
     "shell.execute_reply.started": "2022-04-06T10:43:29.152253Z"
    },
    "tags": []
   },
   "outputs": [],
   "source": [
    "def plot_history(H, epochs):\n",
    "    plt.style.use(\"seaborn-colorblind\")\n",
    "\n",
    "    plt.figure(figsize=(12,6))\n",
    "    plt.subplot(1,2,1)\n",
    "    plt.plot(np.arange(0, epochs), H.history[\"loss\"], label=\"train_loss\")\n",
    "    plt.plot(np.arange(0, epochs), H.history[\"val_loss\"], label=\"val_loss\", linestyle=\":\")\n",
    "    plt.title(\"Loss curve\")\n",
    "    plt.xlabel(\"Epoch\")\n",
    "    plt.ylabel(\"Loss\")\n",
    "    plt.tight_layout()\n",
    "    plt.legend()\n",
    "\n",
    "    plt.subplot(1,2,2)\n",
    "    plt.plot(np.arange(0, epochs), H.history[\"accuracy\"], label=\"train_acc\")\n",
    "    plt.plot(np.arange(0, epochs), H.history[\"val_accuracy\"], label=\"val_acc\", linestyle=\":\")\n",
    "    plt.title(\"Accuracy curve\")\n",
    "    plt.xlabel(\"Epoch\")\n",
    "    plt.ylabel(\"Accuracy\")\n",
    "    plt.tight_layout()\n",
    "    plt.legend()\n",
    "    plt.show()"
   ]
  },
  {
   "cell_type": "markdown",
   "metadata": {},
   "source": [
    "__Load cifar10 data__"
   ]
  },
  {
   "attachments": {},
   "cell_type": "markdown",
   "metadata": {},
   "source": [
    "We first want to load the ```cifar-10``` dataset, normalize the values, and then binarize the labels."
   ]
  },
  {
   "cell_type": "code",
   "execution_count": 3,
   "metadata": {
    "execution": {
     "iopub.execute_input": "2022-04-06T10:45:48.273637Z",
     "iopub.status.busy": "2022-04-06T10:45:48.273092Z",
     "iopub.status.idle": "2022-04-06T10:45:57.745123Z",
     "shell.execute_reply": "2022-04-06T10:45:57.743714Z",
     "shell.execute_reply.started": "2022-04-06T10:45:48.273578Z"
    }
   },
   "outputs": [],
   "source": [
    "(X_train, y_train), (X_test, y_test) = cifar10.load_data()"
   ]
  },
  {
   "attachments": {},
   "cell_type": "markdown",
   "metadata": {},
   "source": [
    "**Question:** As an experiment, see what happens if you try to train the model with un-scaled images. Does it affect performance?"
   ]
  },
  {
   "cell_type": "code",
   "execution_count": 4,
   "metadata": {
    "execution": {
     "iopub.execute_input": "2022-04-06T11:29:37.235138Z",
     "iopub.status.busy": "2022-04-06T11:29:37.234573Z",
     "iopub.status.idle": "2022-04-06T11:29:37.701534Z",
     "shell.execute_reply": "2022-04-06T11:29:37.699781Z",
     "shell.execute_reply.started": "2022-04-06T11:29:37.235080Z"
    },
    "tags": []
   },
   "outputs": [],
   "source": [
    "X_train = X_train/255\n",
    "X_test = X_test/255"
   ]
  },
  {
   "cell_type": "code",
   "execution_count": 5,
   "metadata": {
    "execution": {
     "iopub.execute_input": "2022-04-06T11:29:38.852624Z",
     "iopub.status.busy": "2022-04-06T11:29:38.852137Z",
     "iopub.status.idle": "2022-04-06T11:29:38.905796Z",
     "shell.execute_reply": "2022-04-06T11:29:38.904528Z",
     "shell.execute_reply.started": "2022-04-06T11:29:38.852569Z"
    },
    "tags": []
   },
   "outputs": [],
   "source": [
    "# create one-hot encodings\n",
    "lb = LabelBinarizer()\n",
    "y_train = lb.fit_transform(y_train)\n",
    "y_test = lb.fit_transform(y_test)"
   ]
  },
  {
   "attachments": {},
   "cell_type": "markdown",
   "metadata": {},
   "source": [
    "We'll also manually create a list of labels for when we come to print the classification report later."
   ]
  },
  {
   "cell_type": "code",
   "execution_count": 6,
   "metadata": {
    "execution": {
     "iopub.execute_input": "2022-04-06T11:29:42.542423Z",
     "iopub.status.busy": "2022-04-06T11:29:42.541855Z",
     "iopub.status.idle": "2022-04-06T11:29:42.550121Z",
     "shell.execute_reply": "2022-04-06T11:29:42.548686Z",
     "shell.execute_reply.started": "2022-04-06T11:29:42.542364Z"
    },
    "tags": []
   },
   "outputs": [],
   "source": [
    "# initialize label names for CIFAR-10 dataset\n",
    "label_names = [\"airplane\", \"automobile\", \n",
    "              \"bird\", \"cat\", \n",
    "              \"deer\", \"dog\", \n",
    "              \"frog\", \"horse\", \n",
    "              \"ship\", \"truck\"]"
   ]
  },
  {
   "cell_type": "markdown",
   "metadata": {},
   "source": [
    "## ShallowNet "
   ]
  },
  {
   "attachments": {},
   "cell_type": "markdown",
   "metadata": {},
   "source": [
    "We're going to begin by creating one of the simplest CNN architectures with only a single convolutional layer. This type of architecture is known as the ShallowNet architecture:\n",
    ">INPUT => CONV => ReLU => FC"
   ]
  },
  {
   "cell_type": "code",
   "execution_count": 7,
   "metadata": {
    "execution": {
     "iopub.execute_input": "2022-04-06T11:49:06.518186Z",
     "iopub.status.busy": "2022-04-06T11:49:06.517636Z",
     "iopub.status.idle": "2022-04-06T11:49:06.573755Z",
     "shell.execute_reply": "2022-04-06T11:49:06.573032Z",
     "shell.execute_reply.started": "2022-04-06T11:49:06.518128Z"
    },
    "tags": []
   },
   "outputs": [],
   "source": [
    "#initalise model\n",
    "model = Sequential()\n",
    "\n",
    "# define CONV => ReLU\n",
    "model.add(Conv2D(32, \n",
    "                (3,3),\n",
    "                padding = \"same\",\n",
    "                input_shape = (32, 32, 3)))\n",
    "model.add(Activation(\"relu\"))\n",
    "          \n",
    "# FC classifier\n",
    "model.add(Flatten())\n",
    "model.add(Dense(128))\n",
    "model.add(Activation(\"relu\"))\n",
    "model.add(Dense(10))\n",
    "model.add(Activation(\"softmax\"))"
   ]
  },
  {
   "cell_type": "markdown",
   "metadata": {},
   "source": [
    "__Compile model__"
   ]
  },
  {
   "attachments": {},
   "cell_type": "markdown",
   "metadata": {},
   "source": [
    "We then compile our model using some of the same arguments we've already seen in different contexts."
   ]
  },
  {
   "cell_type": "code",
   "execution_count": 8,
   "metadata": {
    "execution": {
     "iopub.execute_input": "2022-04-06T11:49:11.681155Z",
     "iopub.status.busy": "2022-04-06T11:49:11.680491Z",
     "iopub.status.idle": "2022-04-06T11:49:11.694871Z",
     "shell.execute_reply": "2022-04-06T11:49:11.694086Z",
     "shell.execute_reply.started": "2022-04-06T11:49:11.681098Z"
    },
    "tags": []
   },
   "outputs": [],
   "source": [
    "sgd = SGD(learning_rate =.001)\n",
    "model.compile(loss=\"categorical_crossentropy\",\n",
    "              optimizer=sgd,\n",
    "              metrics=[\"accuracy\"])"
   ]
  },
  {
   "cell_type": "markdown",
   "metadata": {},
   "source": [
    "__Model summary__"
   ]
  },
  {
   "cell_type": "code",
   "execution_count": 9,
   "metadata": {
    "execution": {
     "iopub.execute_input": "2022-04-06T11:49:16.029260Z",
     "iopub.status.busy": "2022-04-06T11:49:16.028743Z",
     "iopub.status.idle": "2022-04-06T11:49:16.053799Z",
     "shell.execute_reply": "2022-04-06T11:49:16.052984Z",
     "shell.execute_reply.started": "2022-04-06T11:49:16.029205Z"
    },
    "tags": []
   },
   "outputs": [
    {
     "name": "stdout",
     "output_type": "stream",
     "text": [
      "Model: \"sequential\"\n",
      "_________________________________________________________________\n",
      " Layer (type)                Output Shape              Param #   \n",
      "=================================================================\n",
      " conv2d (Conv2D)             (None, 32, 32, 32)        896       \n",
      "                                                                 \n",
      " activation (Activation)     (None, 32, 32, 32)        0         \n",
      "                                                                 \n",
      " flatten (Flatten)           (None, 32768)             0         \n",
      "                                                                 \n",
      " dense (Dense)               (None, 128)               4194432   \n",
      "                                                                 \n",
      " activation_1 (Activation)   (None, 128)               0         \n",
      "                                                                 \n",
      " dense_1 (Dense)             (None, 10)                1290      \n",
      "                                                                 \n",
      " activation_2 (Activation)   (None, 10)                0         \n",
      "                                                                 \n",
      "=================================================================\n",
      "Total params: 4,196,618\n",
      "Trainable params: 4,196,618\n",
      "Non-trainable params: 0\n",
      "_________________________________________________________________\n"
     ]
    }
   ],
   "source": [
    "model.summary()"
   ]
  },
  {
   "cell_type": "markdown",
   "metadata": {},
   "source": [
    "__Plot model__"
   ]
  },
  {
   "cell_type": "code",
   "execution_count": 10,
   "metadata": {
    "execution": {
     "iopub.execute_input": "2022-04-06T11:49:19.812997Z",
     "iopub.status.busy": "2022-04-06T11:49:19.812468Z",
     "iopub.status.idle": "2022-04-06T11:49:20.098206Z",
     "shell.execute_reply": "2022-04-06T11:49:20.096565Z",
     "shell.execute_reply.started": "2022-04-06T11:49:19.812924Z"
    },
    "tags": []
   },
   "outputs": [
    {
     "name": "stdout",
     "output_type": "stream",
     "text": [
      "You must install pydot (`pip install pydot`) and install graphviz (see instructions at https://graphviz.gitlab.io/download/) for plot_model to work.\n"
     ]
    }
   ],
   "source": [
    "plot_model(model, show_shapes=True, show_layer_names=True)"
   ]
  },
  {
   "cell_type": "markdown",
   "metadata": {},
   "source": [
    "__Train model__"
   ]
  },
  {
   "attachments": {},
   "cell_type": "markdown",
   "metadata": {},
   "source": [
    "Finally, we train the model on the data and get our predictions."
   ]
  },
  {
   "cell_type": "code",
   "execution_count": 11,
   "metadata": {
    "execution": {
     "iopub.execute_input": "2022-04-06T11:49:24.543998Z",
     "iopub.status.busy": "2022-04-06T11:49:24.543465Z",
     "iopub.status.idle": "2022-04-06T11:53:31.220699Z",
     "shell.execute_reply": "2022-04-06T11:53:31.219175Z",
     "shell.execute_reply.started": "2022-04-06T11:49:24.543927Z"
    },
    "tags": []
   },
   "outputs": [
    {
     "name": "stdout",
     "output_type": "stream",
     "text": [
      "Epoch 1/20\n",
      "1405/1407 [============================>.] - ETA: 0s - loss: 2.0373 - accuracy: 0.2741"
     ]
    }
   ],
   "source": [
    "H = model.fit(X_train, \n",
    "              y_train,\n",
    "              validation_split=0.1,\n",
    "              batch_size=32,\n",
    "              epochs=20,\n",
    "              verbose=1)"
   ]
  },
  {
   "cell_type": "markdown",
   "metadata": {},
   "source": [
    "__Evaluate model__"
   ]
  },
  {
   "cell_type": "code",
   "execution_count": null,
   "metadata": {
    "execution": {
     "iopub.execute_input": "2022-04-06T11:53:33.804125Z",
     "iopub.status.busy": "2022-04-06T11:53:33.803618Z",
     "iopub.status.idle": "2022-04-06T11:53:34.959096Z",
     "shell.execute_reply": "2022-04-06T11:53:34.957961Z",
     "shell.execute_reply.started": "2022-04-06T11:53:33.804072Z"
    },
    "tags": []
   },
   "outputs": [
    {
     "name": "stdout",
     "output_type": "stream",
     "text": [
      "313/313 [==============================] - 1s 3ms/step\n"
     ]
    }
   ],
   "source": [
    "predictions = model.predict(X_test, batch_size=32)"
   ]
  },
  {
   "cell_type": "code",
   "execution_count": null,
   "metadata": {
    "execution": {
     "iopub.execute_input": "2022-04-06T11:53:34.992910Z",
     "iopub.status.busy": "2022-04-06T11:53:34.992786Z",
     "iopub.status.idle": "2022-04-06T11:53:35.016822Z",
     "shell.execute_reply": "2022-04-06T11:53:35.015863Z",
     "shell.execute_reply.started": "2022-04-06T11:53:34.992895Z"
    },
    "tags": []
   },
   "outputs": [
    {
     "name": "stdout",
     "output_type": "stream",
     "text": [
      "              precision    recall  f1-score   support\n",
      "\n",
      "    airplane       0.54      0.65      0.59      1000\n",
      "  automobile       0.60      0.74      0.66      1000\n",
      "        bird       0.50      0.29      0.37      1000\n",
      "         cat       0.35      0.45      0.40      1000\n",
      "        deer       0.49      0.41      0.45      1000\n",
      "         dog       0.48      0.38      0.43      1000\n",
      "        frog       0.49      0.67      0.57      1000\n",
      "       horse       0.61      0.56      0.58      1000\n",
      "        ship       0.67      0.62      0.64      1000\n",
      "       truck       0.62      0.55      0.58      1000\n",
      "\n",
      "    accuracy                           0.53     10000\n",
      "   macro avg       0.54      0.53      0.53     10000\n",
      "weighted avg       0.54      0.53      0.53     10000\n",
      "\n"
     ]
    }
   ],
   "source": [
    "print(classification_report(y_test.argmax(axis=1),\n",
    "                            predictions.argmax(axis=1),\n",
    "                            target_names=label_names))"
   ]
  },
  {
   "attachments": {},
   "cell_type": "markdown",
   "metadata": {},
   "source": [
    "We can also use the ```plot_history()``` function available from ```TensorFlow``` to see how our model performs during training.\n",
    "\n",
    "These plots can tell us *a lot* about whether a model is under- or over-fiting the data. You read more at [this fantastic blog post](https://machinelearningmastery.com/learning-curves-for-diagnosing-machine-learning-model-performance/). \n",
    "\n",
    "Other useful blogs are [here](https://rstudio-conf-2020.github.io/dl-keras-tf/notebooks/learning-curve-diagnostics.nb.html) and there's a good video overview [here](https://youtu.be/p3CcfIjycBA)."
   ]
  },
  {
   "cell_type": "code",
   "execution_count": null,
   "metadata": {
    "execution": {
     "iopub.execute_input": "2022-04-06T11:53:46.390120Z",
     "iopub.status.busy": "2022-04-06T11:53:46.389589Z",
     "iopub.status.idle": "2022-04-06T11:53:46.746258Z",
     "shell.execute_reply": "2022-04-06T11:53:46.745649Z",
     "shell.execute_reply.started": "2022-04-06T11:53:46.390066Z"
    },
    "tags": []
   },
   "outputs": [
    {
     "name": "stderr",
     "output_type": "stream",
     "text": [
      "/tmp/ipykernel_2821/3716877966.py:2: MatplotlibDeprecationWarning: The seaborn styles shipped by Matplotlib are deprecated since 3.6, as they no longer correspond to the styles shipped by seaborn. However, they will remain available as 'seaborn-v0_8-<style>'. Alternatively, directly use the seaborn API instead.\n",
      "  plt.style.use(\"seaborn-colorblind\")\n"
     ]
    },
    {
     "data": {
      "image/png": "[encoded data removed]",
      "text/plain": [
       "<Figure size 1200x600 with 2 Axes>"
      ]
     },
     "metadata": {},
     "output_type": "display_data"
    }
   ],
   "source": [
    "plot_history(H, 20)"
   ]
  },
  {
   "cell_type": "markdown",
   "metadata": {},
   "source": [
    "## LeNet"
   ]
  },
  {
   "attachments": {},
   "cell_type": "markdown",
   "metadata": {},
   "source": [
    "Next, we'll look at a slightly more complicated CNN architecture, known as ```LeNet``` after its creator Yann LeCun, who is now Chief AI Scientist at Meta. You can read more [here](https://en.wikipedia.org/wiki/LeNet).\n",
    ">INPUT => CONV => ReLU => MAXPOOL => CONV => ReLU => MAXPOOL => FC => ReLU => FC"
   ]
  },
  {
   "cell_type": "markdown",
   "metadata": {},
   "source": [
    "__Define model__"
   ]
  },
  {
   "cell_type": "code",
   "execution_count": null,
   "metadata": {
    "execution": {
     "iopub.execute_input": "2022-04-06T12:33:34.993026Z",
     "iopub.status.busy": "2022-04-06T12:33:34.992503Z",
     "iopub.status.idle": "2022-04-06T12:33:35.060581Z",
     "shell.execute_reply": "2022-04-06T12:33:35.059482Z",
     "shell.execute_reply.started": "2022-04-06T12:33:34.992971Z"
    },
    "tags": []
   },
   "outputs": [],
   "source": [
    "# define model\n",
    "model = Sequential()\n",
    "\n",
    "# first set of layers CONV => RELU => MAXPOOL\n",
    "model.add(Conv2D(32, (3,3),\n",
    "                 padding=\"same\",\n",
    "                 input_shape=(32,32,3)))\n",
    "model.add(Activation(\"relu\"))\n",
    "model.add(MaxPooling2D(pool_size = (2,2),\n",
    "                       strides = (2,2)))\n",
    "\n",
    "# second set of layers CONV => RELU => MAXPOOL\n",
    "model.add(Conv2D(50, (5,5),\n",
    "                 padding=\"same\"))\n",
    "model.add(Activation(\"relu\"))\n",
    "model.add(MaxPooling2D(pool_size = (2,2),\n",
    "                       strides = (2,2)))\n",
    "\n",
    "# FC => RELU\n",
    "model.add(Flatten())\n",
    "model.add(Dense(128))\n",
    "model.add(Activation(\"relu\"))\n",
    "\n",
    "# softmax classifier\n",
    "model.add(Dense(10))\n",
    "model.add(Activation(\"softmax\"))"
   ]
  },
  {
   "cell_type": "markdown",
   "metadata": {},
   "source": [
    "__Compile model__"
   ]
  },
  {
   "cell_type": "code",
   "execution_count": null,
   "metadata": {
    "execution": {
     "iopub.execute_input": "2022-04-06T12:33:39.430087Z",
     "iopub.status.busy": "2022-04-06T12:33:39.429395Z",
     "iopub.status.idle": "2022-04-06T12:33:39.444910Z",
     "shell.execute_reply": "2022-04-06T12:33:39.443726Z",
     "shell.execute_reply.started": "2022-04-06T12:33:39.430027Z"
    },
    "tags": []
   },
   "outputs": [],
   "source": [
    "sgd = SGD(learning_rate=0.001)\n",
    "model.compile(loss=\"categorical_crossentropy\",\n",
    "              optimizer=sgd,\n",
    "              metrics=[\"accuracy\"])"
   ]
  },
  {
   "cell_type": "markdown",
   "metadata": {},
   "source": [
    "__Model summary__"
   ]
  },
  {
   "cell_type": "code",
   "execution_count": null,
   "metadata": {
    "execution": {
     "iopub.execute_input": "2022-04-06T12:33:40.194325Z",
     "iopub.status.busy": "2022-04-06T12:33:40.193187Z",
     "iopub.status.idle": "2022-04-06T12:33:40.224235Z",
     "shell.execute_reply": "2022-04-06T12:33:40.223522Z",
     "shell.execute_reply.started": "2022-04-06T12:33:40.194258Z"
    },
    "tags": []
   },
   "outputs": [
    {
     "name": "stdout",
     "output_type": "stream",
     "text": [
      "Model: \"sequential_1\"\n",
      "_________________________________________________________________\n",
      " Layer (type)                Output Shape              Param #   \n",
      "=================================================================\n",
      " conv2d_1 (Conv2D)           (None, 32, 32, 32)        896       \n",
      "                                                                 \n",
      " activation_3 (Activation)   (None, 32, 32, 32)        0         \n",
      "                                                                 \n",
      " max_pooling2d (MaxPooling2D  (None, 16, 16, 32)       0         \n",
      " )                                                               \n",
      "                                                                 \n",
      " conv2d_2 (Conv2D)           (None, 16, 16, 50)        40050     \n",
      "                                                                 \n",
      " activation_4 (Activation)   (None, 16, 16, 50)        0         \n",
      "                                                                 \n",
      " max_pooling2d_1 (MaxPooling  (None, 8, 8, 50)         0         \n",
      " 2D)                                                             \n",
      "                                                                 \n",
      " flatten_1 (Flatten)         (None, 3200)              0         \n",
      "                                                                 \n",
      " dense_2 (Dense)             (None, 128)               409728    \n",
      "                                                                 \n",
      " activation_5 (Activation)   (None, 128)               0         \n",
      "                                                                 \n",
      " dense_3 (Dense)             (None, 10)                1290      \n",
      "                                                                 \n",
      " activation_6 (Activation)   (None, 10)                0         \n",
      "                                                                 \n",
      "=================================================================\n",
      "Total params: 451,964\n",
      "Trainable params: 451,964\n",
      "Non-trainable params: 0\n",
      "_________________________________________________________________\n"
     ]
    }
   ],
   "source": [
    "model.summary()"
   ]
  },
  {
   "cell_type": "markdown",
   "metadata": {},
   "source": [
    "__Train model__"
   ]
  },
  {
   "cell_type": "code",
   "execution_count": null,
   "metadata": {
    "execution": {
     "iopub.execute_input": "2022-04-06T12:33:56.658288Z",
     "iopub.status.busy": "2022-04-06T12:33:56.657599Z",
     "iopub.status.idle": "2022-04-06T12:39:46.878708Z",
     "shell.execute_reply": "2022-04-06T12:39:46.877023Z",
     "shell.execute_reply.started": "2022-04-06T12:33:56.658226Z"
    },
    "tags": []
   },
   "outputs": [
    {
     "name": "stdout",
     "output_type": "stream",
     "text": [
      "Epoch 1/20\n",
      "1407/1407 [==============================] - 15s 10ms/step - loss: 2.2330 - accuracy: 0.2024 - val_loss: 2.1417 - val_accuracy: 0.2728\n",
      "Epoch 2/20\n",
      "1407/1407 [==============================] - 14s 10ms/step - loss: 2.0471 - accuracy: 0.2804 - val_loss: 1.9859 - val_accuracy: 0.2940\n",
      "Epoch 3/20\n",
      "1407/1407 [==============================] - 14s 10ms/step - loss: 1.9425 - accuracy: 0.3155 - val_loss: 1.9133 - val_accuracy: 0.3272\n",
      "Epoch 4/20\n",
      "1407/1407 [==============================] - 14s 10ms/step - loss: 1.8810 - accuracy: 0.3400 - val_loss: 1.8630 - val_accuracy: 0.3254\n",
      "Epoch 5/20\n",
      "1407/1407 [==============================] - 14s 10ms/step - loss: 1.8211 - accuracy: 0.3636 - val_loss: 1.8827 - val_accuracy: 0.3398\n",
      "Epoch 6/20\n",
      "1407/1407 [==============================] - 14s 10ms/step - loss: 1.7618 - accuracy: 0.3832 - val_loss: 1.7409 - val_accuracy: 0.3862\n",
      "Epoch 7/20\n",
      "1407/1407 [==============================] - 14s 10ms/step - loss: 1.7025 - accuracy: 0.4034 - val_loss: 1.6747 - val_accuracy: 0.4060\n",
      "Epoch 8/20\n",
      "1407/1407 [==============================] - 14s 10ms/step - loss: 1.6438 - accuracy: 0.4219 - val_loss: 1.6524 - val_accuracy: 0.4124\n",
      "Epoch 9/20\n",
      "1407/1407 [==============================] - 14s 10ms/step - loss: 1.5901 - accuracy: 0.4398 - val_loss: 1.6943 - val_accuracy: 0.3926\n",
      "Epoch 10/20\n",
      "1407/1407 [==============================] - 14s 10ms/step - loss: 1.5456 - accuracy: 0.4537 - val_loss: 1.5689 - val_accuracy: 0.4416\n",
      "Epoch 11/20\n",
      "1407/1407 [==============================] - 15s 11ms/step - loss: 1.5079 - accuracy: 0.4676 - val_loss: 1.6015 - val_accuracy: 0.4132\n",
      "Epoch 12/20\n",
      "1407/1407 [==============================] - 17s 12ms/step - loss: 1.4766 - accuracy: 0.4780 - val_loss: 1.4779 - val_accuracy: 0.4704\n",
      "Epoch 13/20\n",
      "1407/1407 [==============================] - 17s 12ms/step - loss: 1.4504 - accuracy: 0.4866 - val_loss: 1.4653 - val_accuracy: 0.4764\n",
      "Epoch 14/20\n",
      "1407/1407 [==============================] - 17s 12ms/step - loss: 1.4263 - accuracy: 0.4973 - val_loss: 1.4523 - val_accuracy: 0.4726\n",
      "Epoch 15/20\n",
      "1407/1407 [==============================] - 17s 12ms/step - loss: 1.4053 - accuracy: 0.5065 - val_loss: 1.4173 - val_accuracy: 0.4954\n",
      "Epoch 16/20\n",
      "1407/1407 [==============================] - 17s 12ms/step - loss: 1.3866 - accuracy: 0.5104 - val_loss: 1.4145 - val_accuracy: 0.4942\n",
      "Epoch 17/20\n",
      " 144/1407 [==>...........................] - ETA: 14s - loss: 1.3701 - accuracy: 0.5165"
     ]
    }
   ],
   "source": [
    "# train model\n",
    "H = model.fit(X_train, \n",
    "              y_train, \n",
    "              validation_split=0.1, \n",
    "              batch_size=32,\n",
    "              epochs=20,\n",
    "              verbose=1)"
   ]
  },
  {
   "cell_type": "code",
   "execution_count": null,
   "metadata": {
    "execution": {
     "iopub.execute_input": "2022-04-06T12:39:49.678682Z",
     "iopub.status.busy": "2022-04-06T12:39:49.678169Z",
     "iopub.status.idle": "2022-04-06T12:39:49.917519Z",
     "shell.execute_reply": "2022-04-06T12:39:49.916956Z",
     "shell.execute_reply.started": "2022-04-06T12:39:49.678628Z"
    },
    "tags": []
   },
   "outputs": [],
   "source": [
    "plot_history(H,20)"
   ]
  },
  {
   "cell_type": "code",
   "execution_count": null,
   "metadata": {
    "execution": {
     "iopub.execute_input": "2022-04-06T12:40:25.637585Z",
     "iopub.status.busy": "2022-04-06T12:40:25.637081Z",
     "iopub.status.idle": "2022-04-06T12:40:27.143891Z",
     "shell.execute_reply": "2022-04-06T12:40:27.143357Z",
     "shell.execute_reply.started": "2022-04-06T12:40:25.637533Z"
    },
    "tags": []
   },
   "outputs": [],
   "source": [
    "predictions = model.predict(X_test, batch_size=32)\n",
    "print(classification_report(y_test.argmax(axis=1),\n",
    "                            predictions.argmax(axis=1),\n",
    "                            target_names=label_names))"
   ]
  }
 ],
 "metadata": {
  "kernelspec": {
   "display_name": "Python 3 ",
   "language": "python",
   "name": "python3"
  },
  "language_info": {
   "codemirror_mode": {
    "name": "ipython",
    "version": 3
   },
   "file_extension": ".py",
   "mimetype": "text/x-python",
   "name": "python",
   "nbconvert_exporter": "python",
   "pygments_lexer": "ipython3",
   "version": "3.9.2"
  }
 },
 "nbformat": 4,
 "nbformat_minor": 4
}
